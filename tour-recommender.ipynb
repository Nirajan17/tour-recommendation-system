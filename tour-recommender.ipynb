{
 "cells": [
  {
   "cell_type": "code",
   "execution_count": 127,
   "id": "68d6bdfa",
   "metadata": {},
   "outputs": [],
   "source": [
    "import pandas as pd"
   ]
  },
  {
   "cell_type": "code",
   "execution_count": 128,
   "id": "4609232c",
   "metadata": {},
   "outputs": [],
   "source": [
    "tour_df = pd.read_excel('/Users/nirajanpaudel17/Documents/Python/Tour-Recommendation-System/tour-dataset.csv.xlsx')"
   ]
  },
  {
   "cell_type": "code",
   "execution_count": 129,
   "id": "743caee7",
   "metadata": {},
   "outputs": [],
   "source": [
    "tour_df.reset_index(inplace=True)"
   ]
  },
  {
   "cell_type": "code",
   "execution_count": 130,
   "id": "e8f320f8",
   "metadata": {},
   "outputs": [
    {
     "data": {
      "text/html": [
       "<div>\n",
       "<style scoped>\n",
       "    .dataframe tbody tr th:only-of-type {\n",
       "        vertical-align: middle;\n",
       "    }\n",
       "\n",
       "    .dataframe tbody tr th {\n",
       "        vertical-align: top;\n",
       "    }\n",
       "\n",
       "    .dataframe thead th {\n",
       "        text-align: right;\n",
       "    }\n",
       "</style>\n",
       "<table border=\"1\" class=\"dataframe\">\n",
       "  <thead>\n",
       "    <tr style=\"text-align: right;\">\n",
       "      <th></th>\n",
       "      <th>index</th>\n",
       "      <th>Title</th>\n",
       "      <th>Overview</th>\n",
       "      <th>Genres</th>\n",
       "      <th>Keywords</th>\n",
       "    </tr>\n",
       "  </thead>\n",
       "  <tbody>\n",
       "    <tr>\n",
       "      <th>0</th>\n",
       "      <td>0</td>\n",
       "      <td>Everest Base Camp Trek</td>\n",
       "      <td>Embark on a legendary adventure to the base ca...</td>\n",
       "      <td>Adventure</td>\n",
       "      <td>Everest, Base Camp, Trek, Adventure, Khumbu, S...</td>\n",
       "    </tr>\n",
       "    <tr>\n",
       "      <th>1</th>\n",
       "      <td>1</td>\n",
       "      <td>Annapurna Circuit Trek</td>\n",
       "      <td>Embark on a classic trekking journey around th...</td>\n",
       "      <td>Adventure</td>\n",
       "      <td>Annapurna, Circuit, Trek, Adventure, Thorong L...</td>\n",
       "    </tr>\n",
       "    <tr>\n",
       "      <th>2</th>\n",
       "      <td>2</td>\n",
       "      <td>Poon Hill Trek</td>\n",
       "      <td>Experience a short yet rewarding trek to Poon ...</td>\n",
       "      <td>Adventure</td>\n",
       "      <td>Poon Hill, Trek, Adventure, Sunrise, Annapurna...</td>\n",
       "    </tr>\n",
       "    <tr>\n",
       "      <th>3</th>\n",
       "      <td>3</td>\n",
       "      <td>Langtang Valley Trek</td>\n",
       "      <td>Embark on a scenic trek through the enchanting...</td>\n",
       "      <td>Adventure</td>\n",
       "      <td>Langtang, Valley, Trek, Adventure, Langtang Na...</td>\n",
       "    </tr>\n",
       "    <tr>\n",
       "      <th>4</th>\n",
       "      <td>4</td>\n",
       "      <td>Ghorepani Trek</td>\n",
       "      <td>Experience the beauty of the Annapurna region ...</td>\n",
       "      <td>Adventure</td>\n",
       "      <td>Ghorepani, Trek, Adventure, Poon Hill, Annapur...</td>\n",
       "    </tr>\n",
       "  </tbody>\n",
       "</table>\n",
       "</div>"
      ],
      "text/plain": [
       "   index                   Title  \\\n",
       "0      0  Everest Base Camp Trek   \n",
       "1      1  Annapurna Circuit Trek   \n",
       "2      2          Poon Hill Trek   \n",
       "3      3    Langtang Valley Trek   \n",
       "4      4          Ghorepani Trek   \n",
       "\n",
       "                                            Overview     Genres  \\\n",
       "0  Embark on a legendary adventure to the base ca...  Adventure   \n",
       "1  Embark on a classic trekking journey around th...  Adventure   \n",
       "2  Experience a short yet rewarding trek to Poon ...  Adventure   \n",
       "3  Embark on a scenic trek through the enchanting...  Adventure   \n",
       "4  Experience the beauty of the Annapurna region ...  Adventure   \n",
       "\n",
       "                                            Keywords  \n",
       "0  Everest, Base Camp, Trek, Adventure, Khumbu, S...  \n",
       "1  Annapurna, Circuit, Trek, Adventure, Thorong L...  \n",
       "2  Poon Hill, Trek, Adventure, Sunrise, Annapurna...  \n",
       "3  Langtang, Valley, Trek, Adventure, Langtang Na...  \n",
       "4  Ghorepani, Trek, Adventure, Poon Hill, Annapur...  "
      ]
     },
     "execution_count": 130,
     "metadata": {},
     "output_type": "execute_result"
    }
   ],
   "source": [
    "tour_df.head()"
   ]
  },
  {
   "cell_type": "code",
   "execution_count": 131,
   "id": "6be8a9e9",
   "metadata": {},
   "outputs": [
    {
     "data": {
      "text/plain": [
       "50"
      ]
     },
     "execution_count": 131,
     "metadata": {},
     "output_type": "execute_result"
    }
   ],
   "source": [
    "len(tour_df)"
   ]
  },
  {
   "cell_type": "code",
   "execution_count": 132,
   "id": "78640f76",
   "metadata": {},
   "outputs": [
    {
     "data": {
      "text/plain": [
       "\"Embark on a legendary adventure to the base camp of Mount Everest, the world's highest peak. Trek through the picturesque Khumbu region, passing Sherpa villages, suspension bridges, and serene monasteries. Experience breathtaking views of Everest, Lhotse, Nuptse, and other majestic Himalayan peaks. Immerse yourself in the Sherpa culture, visit the iconic Tengboche Monastery, and witness the rich biodiversity of Sagarmatha National Park. This challenging trek is a bucket-list adventure for every mountain enthusiast.\""
      ]
     },
     "execution_count": 132,
     "metadata": {},
     "output_type": "execute_result"
    }
   ],
   "source": [
    "tour_df['Overview'][0]"
   ]
  },
  {
   "cell_type": "code",
   "execution_count": 133,
   "id": "b8f4a9ff",
   "metadata": {},
   "outputs": [
    {
     "data": {
      "text/plain": [
       "index       0\n",
       "Title       0\n",
       "Overview    0\n",
       "Genres      0\n",
       "Keywords    0\n",
       "dtype: int64"
      ]
     },
     "execution_count": 133,
     "metadata": {},
     "output_type": "execute_result"
    }
   ],
   "source": [
    "tour_df.isnull().sum()"
   ]
  },
  {
   "cell_type": "code",
   "execution_count": 134,
   "id": "70c2a192",
   "metadata": {},
   "outputs": [
    {
     "data": {
      "text/plain": [
       "0"
      ]
     },
     "execution_count": 134,
     "metadata": {},
     "output_type": "execute_result"
    }
   ],
   "source": [
    "tour_df.duplicated().sum()"
   ]
  },
  {
   "cell_type": "code",
   "execution_count": 135,
   "id": "82b986da",
   "metadata": {},
   "outputs": [
    {
     "data": {
      "text/plain": [
       "array(['Adventure', 'Wildlife, Safari', 'Sightseeing', 'Pilgrimage',\n",
       "       'Wellness', 'Photography'], dtype=object)"
      ]
     },
     "execution_count": 135,
     "metadata": {},
     "output_type": "execute_result"
    }
   ],
   "source": [
    "tour_df['Genres'].unique()"
   ]
  },
  {
   "cell_type": "code",
   "execution_count": 136,
   "id": "815bbe94",
   "metadata": {},
   "outputs": [
    {
     "data": {
      "text/plain": [
       "Index(['index', 'Title', 'Overview', 'Genres', 'Keywords'], dtype='object')"
      ]
     },
     "execution_count": 136,
     "metadata": {},
     "output_type": "execute_result"
    }
   ],
   "source": [
    "tour_df.columns"
   ]
  },
  {
   "cell_type": "markdown",
   "id": "888a194f",
   "metadata": {},
   "source": [
    "Let's merge all the information of every columns in one column."
   ]
  },
  {
   "cell_type": "code",
   "execution_count": 137,
   "id": "9a44f714",
   "metadata": {},
   "outputs": [],
   "source": [
    "tour_df['info'] = tour_df['Overview'] + tour_df['Genres'] +\" \"+ tour_df['Keywords']"
   ]
  },
  {
   "cell_type": "code",
   "execution_count": 138,
   "id": "3243d191",
   "metadata": {},
   "outputs": [
    {
     "data": {
      "text/plain": [
       "\"Embark on a legendary adventure to the base camp of Mount Everest, the world's highest peak. Trek through the picturesque Khumbu region, passing Sherpa villages, suspension bridges, and serene monasteries. Experience breathtaking views of Everest, Lhotse, Nuptse, and other majestic Himalayan peaks. Immerse yourself in the Sherpa culture, visit the iconic Tengboche Monastery, and witness the rich biodiversity of Sagarmatha National Park. This challenging trek is a bucket-list adventure for every mountain enthusiast.Adventure Everest, Base Camp, Trek, Adventure, Khumbu, Sherpa, Sagarmatha National Park, Tengboche Monastery\""
      ]
     },
     "execution_count": 138,
     "metadata": {},
     "output_type": "execute_result"
    }
   ],
   "source": [
    "tour_df['info'][0]"
   ]
  },
  {
   "cell_type": "code",
   "execution_count": 140,
   "id": "a6965cc1",
   "metadata": {},
   "outputs": [],
   "source": [
    "tour = tour_df[['index','Title','info']]"
   ]
  },
  {
   "cell_type": "code",
   "execution_count": 182,
   "id": "758820f0",
   "metadata": {},
   "outputs": [
    {
     "data": {
      "text/html": [
       "<div>\n",
       "<style scoped>\n",
       "    .dataframe tbody tr th:only-of-type {\n",
       "        vertical-align: middle;\n",
       "    }\n",
       "\n",
       "    .dataframe tbody tr th {\n",
       "        vertical-align: top;\n",
       "    }\n",
       "\n",
       "    .dataframe thead th {\n",
       "        text-align: right;\n",
       "    }\n",
       "</style>\n",
       "<table border=\"1\" class=\"dataframe\">\n",
       "  <thead>\n",
       "    <tr style=\"text-align: right;\">\n",
       "      <th></th>\n",
       "      <th>index</th>\n",
       "      <th>Title</th>\n",
       "      <th>info</th>\n",
       "    </tr>\n",
       "  </thead>\n",
       "  <tbody>\n",
       "    <tr>\n",
       "      <th>0</th>\n",
       "      <td>0</td>\n",
       "      <td>Everest Base Camp Trek</td>\n",
       "      <td>e m b a r k   o n   a   l e g e n d a r y   a ...</td>\n",
       "    </tr>\n",
       "    <tr>\n",
       "      <th>1</th>\n",
       "      <td>1</td>\n",
       "      <td>Annapurna Circuit Trek</td>\n",
       "      <td>e m b a r k   o n   a   c l a s s i c   t r e ...</td>\n",
       "    </tr>\n",
       "    <tr>\n",
       "      <th>2</th>\n",
       "      <td>2</td>\n",
       "      <td>Poon Hill Trek</td>\n",
       "      <td>e x p e r i e n c e   a   s h o r t   y e t   ...</td>\n",
       "    </tr>\n",
       "    <tr>\n",
       "      <th>3</th>\n",
       "      <td>3</td>\n",
       "      <td>Langtang Valley Trek</td>\n",
       "      <td>e m b a r k   o n   a   s c e n i c   t r e k ...</td>\n",
       "    </tr>\n",
       "    <tr>\n",
       "      <th>4</th>\n",
       "      <td>4</td>\n",
       "      <td>Ghorepani Trek</td>\n",
       "      <td>e x p e r i e n c e   t h e   b e a u t y   o ...</td>\n",
       "    </tr>\n",
       "    <tr>\n",
       "      <th>5</th>\n",
       "      <td>5</td>\n",
       "      <td>Upper Mustang Trek</td>\n",
       "      <td>e m b a r k   o n   a   m y s t i c a l   j o ...</td>\n",
       "    </tr>\n",
       "    <tr>\n",
       "      <th>6</th>\n",
       "      <td>6</td>\n",
       "      <td>Manaslu Circuit Trek</td>\n",
       "      <td>e m b a r k   o n   a n   e p i c   a d v e n ...</td>\n",
       "    </tr>\n",
       "    <tr>\n",
       "      <th>7</th>\n",
       "      <td>7</td>\n",
       "      <td>Gokyo Lakes Trek</td>\n",
       "      <td>j o u r n e y   t o   t h e   m e s m e r i z ...</td>\n",
       "    </tr>\n",
       "    <tr>\n",
       "      <th>8</th>\n",
       "      <td>8</td>\n",
       "      <td>Mardi Himal Trek</td>\n",
       "      <td>e m b a r k   o n   a n   e n c h a n t i n g ...</td>\n",
       "    </tr>\n",
       "    <tr>\n",
       "      <th>9</th>\n",
       "      <td>9</td>\n",
       "      <td>Helambu Trek</td>\n",
       "      <td>e x p l o r e   t h e   p i c t u r e s q u e ...</td>\n",
       "    </tr>\n",
       "    <tr>\n",
       "      <th>10</th>\n",
       "      <td>10</td>\n",
       "      <td>Rara Lake Trek</td>\n",
       "      <td>e m b a r k   o n   a   s c e n i c   t r e k ...</td>\n",
       "    </tr>\n",
       "    <tr>\n",
       "      <th>11</th>\n",
       "      <td>11</td>\n",
       "      <td>Kanchenjunga Base Camp Trek</td>\n",
       "      <td>e m b a r k   o n   a   c h a l l e n g i n g ...</td>\n",
       "    </tr>\n",
       "    <tr>\n",
       "      <th>12</th>\n",
       "      <td>12</td>\n",
       "      <td>Nar Phu Valley Trek</td>\n",
       "      <td>d i s c o v e r   t h e   h i d d e n   t r e ...</td>\n",
       "    </tr>\n",
       "    <tr>\n",
       "      <th>13</th>\n",
       "      <td>13</td>\n",
       "      <td>Everest View Trek</td>\n",
       "      <td>e x p e r i e n c e   t h e   w o n d e r s   ...</td>\n",
       "    </tr>\n",
       "    <tr>\n",
       "      <th>14</th>\n",
       "      <td>14</td>\n",
       "      <td>Makalu Base Camp Trek</td>\n",
       "      <td>e m b a r k   o n   a n   a d v e n t u r o u ...</td>\n",
       "    </tr>\n",
       "    <tr>\n",
       "      <th>15</th>\n",
       "      <td>15</td>\n",
       "      <td>Dolpo Trek</td>\n",
       "      <td>e m b a r k   o n   a   r e m o t e   a n d   ...</td>\n",
       "    </tr>\n",
       "    <tr>\n",
       "      <th>16</th>\n",
       "      <td>16</td>\n",
       "      <td>Jomsom Muktinath Trek</td>\n",
       "      <td>e m b a r k   o n   a   c l a s s i c   t r e ...</td>\n",
       "    </tr>\n",
       "    <tr>\n",
       "      <th>17</th>\n",
       "      <td>17</td>\n",
       "      <td>Annapurna Base Camp Trek</td>\n",
       "      <td>e m b a r k   o n   a   c l a s s i c   t r e ...</td>\n",
       "    </tr>\n",
       "    <tr>\n",
       "      <th>18</th>\n",
       "      <td>18</td>\n",
       "      <td>Shivapuri Hiking</td>\n",
       "      <td>e n j o y   a   r e f r e s h i n g   h i k e ...</td>\n",
       "    </tr>\n",
       "    <tr>\n",
       "      <th>19</th>\n",
       "      <td>19</td>\n",
       "      <td>Chitwan National Park Safari</td>\n",
       "      <td>e m b a r k   o n   a n   e x c i t i n g   w ...</td>\n",
       "    </tr>\n",
       "  </tbody>\n",
       "</table>\n",
       "</div>"
      ],
      "text/plain": [
       "    index                         Title  \\\n",
       "0       0        Everest Base Camp Trek   \n",
       "1       1        Annapurna Circuit Trek   \n",
       "2       2                Poon Hill Trek   \n",
       "3       3          Langtang Valley Trek   \n",
       "4       4                Ghorepani Trek   \n",
       "5       5            Upper Mustang Trek   \n",
       "6       6          Manaslu Circuit Trek   \n",
       "7       7              Gokyo Lakes Trek   \n",
       "8       8              Mardi Himal Trek   \n",
       "9       9                  Helambu Trek   \n",
       "10     10                Rara Lake Trek   \n",
       "11     11   Kanchenjunga Base Camp Trek   \n",
       "12     12           Nar Phu Valley Trek   \n",
       "13     13             Everest View Trek   \n",
       "14     14         Makalu Base Camp Trek   \n",
       "15     15                    Dolpo Trek   \n",
       "16     16         Jomsom Muktinath Trek   \n",
       "17     17      Annapurna Base Camp Trek   \n",
       "18     18              Shivapuri Hiking   \n",
       "19     19  Chitwan National Park Safari   \n",
       "\n",
       "                                                 info  \n",
       "0   e m b a r k   o n   a   l e g e n d a r y   a ...  \n",
       "1   e m b a r k   o n   a   c l a s s i c   t r e ...  \n",
       "2   e x p e r i e n c e   a   s h o r t   y e t   ...  \n",
       "3   e m b a r k   o n   a   s c e n i c   t r e k ...  \n",
       "4   e x p e r i e n c e   t h e   b e a u t y   o ...  \n",
       "5   e m b a r k   o n   a   m y s t i c a l   j o ...  \n",
       "6   e m b a r k   o n   a n   e p i c   a d v e n ...  \n",
       "7   j o u r n e y   t o   t h e   m e s m e r i z ...  \n",
       "8   e m b a r k   o n   a n   e n c h a n t i n g ...  \n",
       "9   e x p l o r e   t h e   p i c t u r e s q u e ...  \n",
       "10  e m b a r k   o n   a   s c e n i c   t r e k ...  \n",
       "11  e m b a r k   o n   a   c h a l l e n g i n g ...  \n",
       "12  d i s c o v e r   t h e   h i d d e n   t r e ...  \n",
       "13  e x p e r i e n c e   t h e   w o n d e r s   ...  \n",
       "14  e m b a r k   o n   a n   a d v e n t u r o u ...  \n",
       "15  e m b a r k   o n   a   r e m o t e   a n d   ...  \n",
       "16  e m b a r k   o n   a   c l a s s i c   t r e ...  \n",
       "17  e m b a r k   o n   a   c l a s s i c   t r e ...  \n",
       "18  e n j o y   a   r e f r e s h i n g   h i k e ...  \n",
       "19  e m b a r k   o n   a n   e x c i t i n g   w ...  "
      ]
     },
     "execution_count": 182,
     "metadata": {},
     "output_type": "execute_result"
    }
   ],
   "source": [
    "tour.head(20)"
   ]
  },
  {
   "cell_type": "code",
   "execution_count": 142,
   "id": "0728c842",
   "metadata": {},
   "outputs": [
    {
     "name": "stderr",
     "output_type": "stream",
     "text": [
      "/var/folders/jm/g978mxy128vghxxjgmlf7cfc0000gn/T/ipykernel_31244/661001217.py:1: SettingWithCopyWarning: \n",
      "A value is trying to be set on a copy of a slice from a DataFrame.\n",
      "Try using .loc[row_indexer,col_indexer] = value instead\n",
      "\n",
      "See the caveats in the documentation: https://pandas.pydata.org/pandas-docs/stable/user_guide/indexing.html#returning-a-view-versus-a-copy\n",
      "  tour['info'] = tour['info'].apply(lambda x:x.lower())\n"
     ]
    }
   ],
   "source": [
    "tour['info'] = tour['info'].apply(lambda x:x.lower())"
   ]
  },
  {
   "cell_type": "code",
   "execution_count": 143,
   "id": "af635190",
   "metadata": {},
   "outputs": [
    {
     "data": {
      "text/plain": [
       "\"soar through the sky and experience the freedom of flight with paragliding in pokhara. take off from sarangkot and enjoy a bird's-eye view of the stunning pokhara valley, phewa lake, and the annapurna range. feel the wind in your hair, glide through the air, and witness the beauty of nature from a different perspective. this thrilling adventure will leave you with unforgettable memories and a sense of awe for the majestic himalayas.adventure paragliding, pokhara, adventure, sarangkot, pokhara valley, phewa lake, annapurna\""
      ]
     },
     "execution_count": 143,
     "metadata": {},
     "output_type": "execute_result"
    }
   ],
   "source": [
    "tour['info'][30]"
   ]
  },
  {
   "cell_type": "code",
   "execution_count": 144,
   "id": "3cac2298",
   "metadata": {},
   "outputs": [],
   "source": [
    "from sklearn.feature_extraction.text import CountVectorizer"
   ]
  },
  {
   "cell_type": "code",
   "execution_count": 145,
   "id": "c1ddeaee",
   "metadata": {},
   "outputs": [],
   "source": [
    "vectorizer = CountVectorizer(max_features=1000,stop_words='english')"
   ]
  },
  {
   "cell_type": "code",
   "execution_count": 146,
   "id": "25b4f074",
   "metadata": {},
   "outputs": [],
   "source": [
    "vector = vectorizer.fit_transform(tour['info']).toarray()  # it is changed to array to give input to cosine_similarity"
   ]
  },
  {
   "cell_type": "code",
   "execution_count": 147,
   "id": "bbb035d1",
   "metadata": {},
   "outputs": [
    {
     "data": {
      "text/plain": [
       "(50, 698)"
      ]
     },
     "execution_count": 147,
     "metadata": {},
     "output_type": "execute_result"
    }
   ],
   "source": [
    "vector.shape"
   ]
  },
  {
   "cell_type": "code",
   "execution_count": 148,
   "id": "f56cf184",
   "metadata": {},
   "outputs": [],
   "source": [
    "import nltk"
   ]
  },
  {
   "cell_type": "code",
   "execution_count": 149,
   "id": "575f5165",
   "metadata": {},
   "outputs": [],
   "source": [
    "from nltk.stem.porter import PorterStemmer"
   ]
  },
  {
   "cell_type": "code",
   "execution_count": 150,
   "id": "8fd18d18",
   "metadata": {},
   "outputs": [],
   "source": [
    "stemmer = PorterStemmer()"
   ]
  },
  {
   "cell_type": "code",
   "execution_count": 151,
   "id": "b69868d3",
   "metadata": {},
   "outputs": [],
   "source": [
    "def stem_words(text):\n",
    "    stemmed = []\n",
    "    for i in text:\n",
    "        stemmed.append(stemmer.stem(i))\n",
    "    return (' '.join(stemmed))"
   ]
  },
  {
   "cell_type": "code",
   "execution_count": 152,
   "id": "775f26c5",
   "metadata": {},
   "outputs": [
    {
     "name": "stderr",
     "output_type": "stream",
     "text": [
      "/var/folders/jm/g978mxy128vghxxjgmlf7cfc0000gn/T/ipykernel_31244/1787661291.py:1: SettingWithCopyWarning: \n",
      "A value is trying to be set on a copy of a slice from a DataFrame.\n",
      "Try using .loc[row_indexer,col_indexer] = value instead\n",
      "\n",
      "See the caveats in the documentation: https://pandas.pydata.org/pandas-docs/stable/user_guide/indexing.html#returning-a-view-versus-a-copy\n",
      "  tour['info'] = tour['info'].apply(stem_words)\n"
     ]
    }
   ],
   "source": [
    "tour['info'] = tour['info'].apply(stem_words)"
   ]
  },
  {
   "cell_type": "code",
   "execution_count": 153,
   "id": "54ed1374",
   "metadata": {},
   "outputs": [],
   "source": [
    "from sklearn.metrics.pairwise import cosine_similarity"
   ]
  },
  {
   "cell_type": "code",
   "execution_count": 154,
   "id": "a72b088b",
   "metadata": {},
   "outputs": [],
   "source": [
    "similarity = cosine_similarity(vector)"
   ]
  },
  {
   "cell_type": "code",
   "execution_count": 159,
   "id": "9d3d2ccf",
   "metadata": {},
   "outputs": [
    {
     "data": {
      "text/plain": [
       "50"
      ]
     },
     "execution_count": 159,
     "metadata": {},
     "output_type": "execute_result"
    }
   ],
   "source": [
    "len(similarity)"
   ]
  },
  {
   "cell_type": "code",
   "execution_count": 180,
   "id": "be3d826d",
   "metadata": {},
   "outputs": [],
   "source": [
    "def recommend_tour(tour_name):\n",
    "    tour_index = tour[tour['Title']==tour_name].index[0]\n",
    "    distances = similarity[tour_index]\n",
    "#     print(sorted(list(enumerate(distances)),reverse=True,key=lambda x:x[1]))\n",
    "    tour_list = sorted(list(enumerate(distances)),reverse=True,key=lambda x:x[1])[1:6]\n",
    "    \n",
    "    for i in tour_list:\n",
    "        print(tour.iloc[i[0]].Title)"
   ]
  },
  {
   "cell_type": "code",
   "execution_count": 181,
   "id": "5004feed",
   "metadata": {},
   "outputs": [
    {
     "name": "stdout",
     "output_type": "stream",
     "text": [
      "Ghorepani Trek\n",
      "Annapurna Circuit Trek\n",
      "Annapurna Base Camp Trek\n",
      "Helambu Trek\n",
      "Mardi Himal Trek\n"
     ]
    }
   ],
   "source": [
    "recommend_tour('Poon Hill Trek')"
   ]
  },
  {
   "cell_type": "code",
   "execution_count": 183,
   "id": "0ce63fa0",
   "metadata": {},
   "outputs": [
    {
     "name": "stdout",
     "output_type": "stream",
     "text": [
      "Bardia National Park Safari\n",
      "Wildlife Safari in Shuklaphanta National Park\n",
      "Bardia Jungle Safari\n",
      "Koshi Tappu Wildlife Reserve Tour\n",
      "Manaslu Circuit Trek\n"
     ]
    }
   ],
   "source": [
    "recommend_tour('Chitwan National Park Safari')"
   ]
  },
  {
   "cell_type": "code",
   "execution_count": null,
   "id": "1e808a53",
   "metadata": {},
   "outputs": [],
   "source": []
  }
 ],
 "metadata": {
  "kernelspec": {
   "display_name": "Python 3 (ipykernel)",
   "language": "python",
   "name": "python3"
  },
  "language_info": {
   "codemirror_mode": {
    "name": "ipython",
    "version": 3
   },
   "file_extension": ".py",
   "mimetype": "text/x-python",
   "name": "python",
   "nbconvert_exporter": "python",
   "pygments_lexer": "ipython3",
   "version": "3.10.11"
  }
 },
 "nbformat": 4,
 "nbformat_minor": 5
}
