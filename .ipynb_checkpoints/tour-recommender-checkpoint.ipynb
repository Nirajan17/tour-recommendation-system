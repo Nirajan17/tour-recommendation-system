{
 "cells": [
  {
   "cell_type": "code",
   "execution_count": 2,
   "id": "68d6bdfa",
   "metadata": {},
   "outputs": [],
   "source": [
    "import pandas as pd"
   ]
  },
  {
   "cell_type": "code",
   "execution_count": 3,
   "id": "4609232c",
   "metadata": {},
   "outputs": [],
   "source": [
    "tour_df = pd.read_excel('/Users/nirajanpaudel17/Documents/Python/Tour-Recommendation-System/tour-dataset.csv.xlsx')"
   ]
  },
  {
   "cell_type": "code",
   "execution_count": 4,
   "id": "78640f76",
   "metadata": {},
   "outputs": [
    {
     "data": {
      "text/plain": [
       "\"Embark on a legendary adventure to the base camp of Mount Everest, the world's highest peak. Trek through the picturesque Khumbu region, passing Sherpa villages, suspension bridges, and serene monasteries. Experience breathtaking views of Everest, Lhotse, Nuptse, and other majestic Himalayan peaks. Immerse yourself in the Sherpa culture, visit the iconic Tengboche Monastery, and witness the rich biodiversity of Sagarmatha National Park. This challenging trek is a bucket-list adventure for every mountain enthusiast.\""
      ]
     },
     "execution_count": 4,
     "metadata": {},
     "output_type": "execute_result"
    }
   ],
   "source": [
    "tour_df['Overview'][0]"
   ]
  },
  {
   "cell_type": "code",
   "execution_count": null,
   "id": "b8f4a9ff",
   "metadata": {},
   "outputs": [],
   "source": []
  }
 ],
 "metadata": {
  "kernelspec": {
   "display_name": "Python 3 (ipykernel)",
   "language": "python",
   "name": "python3"
  },
  "language_info": {
   "codemirror_mode": {
    "name": "ipython",
    "version": 3
   },
   "file_extension": ".py",
   "mimetype": "text/x-python",
   "name": "python",
   "nbconvert_exporter": "python",
   "pygments_lexer": "ipython3",
   "version": "3.10.11"
  }
 },
 "nbformat": 4,
 "nbformat_minor": 5
}
